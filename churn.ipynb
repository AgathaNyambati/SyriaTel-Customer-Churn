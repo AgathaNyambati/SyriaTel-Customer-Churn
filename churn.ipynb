{
 "cells": [
  {
   "cell_type": "markdown",
   "metadata": {},
   "source": [
    "## Project Overview"
   ]
  },
  {
   "cell_type": "markdown",
   "metadata": {},
   "source": [
    "### Problem statement\n",
    "\n",
    "SyriaTel, a telecommunications company, is facing a high churn rate, with many customers discontinuing their services and switching to competitors. By analyzing the dataset, SyriaTel aims to gain insights into factors associated with high customer churn, leading to significant revenue loss\n",
    "\n",
    "Objectives are:\n",
    "\n",
    "1. Identify the factors that are most likely to lead to customer churn.\n",
    "\n",
    "2. Develop a model that can accurately predict which customers are at risk of churning.\n",
    "\n",
    "3. Take proactive steps to retain customers who are at risk of churning.\n",
    "\n",
    "My stakeholders are:\n",
    "\n",
    "1. SyriaTel company\n",
    "\n",
    "2. Potential Investors\n",
    "\n",
    "3. Partners of SyriaTel \n",
    "\n",
    "By analyzing customer data and identifying key factors contributing to churn, our project offers valuable insights for telecom businesse. These insights can be used to implement targeted strategies to improve customer satisfaction, reduce churn rates, and ultimately increase revenue. \n",
    "\n"
   ]
  },
  {
   "cell_type": "markdown",
   "metadata": {},
   "source": [
    "## Data understanding"
   ]
  },
  {
   "cell_type": "markdown",
   "metadata": {},
   "source": [
    "We source our data from Kaggle: Churn in Telecom's dataset. These data sources are well-suited for this project because they provide a comprehensive understanding of customer behavior, service usage, and factors that may contribute to churn. "
   ]
  },
  {
   "cell_type": "code",
   "execution_count": null,
   "metadata": {},
   "outputs": [],
   "source": []
  }
 ],
 "metadata": {
  "kernelspec": {
   "display_name": "learn-env",
   "language": "python",
   "name": "python3"
  },
  "language_info": {
   "codemirror_mode": {
    "name": "ipython",
    "version": 3
   },
   "file_extension": ".py",
   "mimetype": "text/x-python",
   "name": "python",
   "nbconvert_exporter": "python",
   "pygments_lexer": "ipython3",
   "version": "3.8.5"
  }
 },
 "nbformat": 4,
 "nbformat_minor": 2
}
